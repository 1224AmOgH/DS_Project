{
 "cells": [
  {
   "cell_type": "code",
   "execution_count": null,
   "metadata": {},
   "outputs": [
    {
     "name": "stdout",
     "output_type": "stream",
     "text": [
      "Sequencer Server running on 0.0.0.0:8080...\n"
     ]
    }
   ],
   "source": [
    "import socket\n",
    "import threading\n",
    "import json\n",
    "\n",
    "class SequencerServer:\n",
    "    def __init__(self, host, port):\n",
    "        self.host = host\n",
    "        self.port = port\n",
    "        self.server_socket = None\n",
    "        self.clients = []\n",
    "        self.sequence_number = 0  # For ordering messages\n",
    "\n",
    "    def start(self):\n",
    "        try:\n",
    "            self.server_socket = socket.socket(socket.AF_INET, socket.SOCK_STREAM)\n",
    "            self.server_socket.bind((self.host, self.port))  # Updated host\n",
    "            self.server_socket.listen(5)\n",
    "            print(f\"Sequencer Server running on {self.host}:{self.port}...\")\n",
    "            \n",
    "            while True:\n",
    "                client_socket, client_address = self.server_socket.accept()\n",
    "                self.clients.append(client_socket)\n",
    "                print(f\"New connection from {client_address}\")\n",
    "                threading.Thread(target=self.handle_client, args=(client_socket,)).start()\n",
    "        except OSError as e:\n",
    "            print(f\"Error starting server: {e}\")\n",
    "        finally:\n",
    "            if self.server_socket:\n",
    "                self.server_socket.close()\n",
    "\n",
    "    def handle_client(self, client_socket):\n",
    "        try:\n",
    "            while True:\n",
    "                data = client_socket.recv(1024).decode()\n",
    "                if not data:\n",
    "                    break\n",
    "                message = json.loads(data)\n",
    "\n",
    "                # Assign a sequence number\n",
    "                self.sequence_number += 1\n",
    "                message['sequence'] = self.sequence_number\n",
    "                print(f\"Sequenced Message: {message}\")\n",
    "\n",
    "                # Broadcast message to all clients\n",
    "                self.broadcast_message(message)\n",
    "        except Exception as e:\n",
    "            print(f\"Error with client: {e}\")\n",
    "        finally:\n",
    "            self.clients.remove(client_socket)\n",
    "            client_socket.close()\n",
    "\n",
    "    def broadcast_message(self, message):\n",
    "        for client in self.clients:\n",
    "            try:\n",
    "                client.sendall(json.dumps(message).encode())\n",
    "            except Exception as e:\n",
    "                print(f\"Error broadcasting to a client: {e}\")\n",
    "\n",
    "if __name__ == \"__main__\":\n",
    "    # Use your computer's IP or bind to all interfaces\n",
    "    server = SequencerServer(\"192.168.27.221\", 8080)  # Listen on all network interfaces\n",
    "\n",
    "    try:\n",
    "        server.start()\n",
    "    except KeyboardInterrupt:\n",
    "        print(\"Server shutting down.\")\n"
   ]
  }
 ],
 "metadata": {
  "kernelspec": {
   "display_name": "Python 3",
   "language": "python",
   "name": "python3"
  },
  "language_info": {
   "codemirror_mode": {
    "name": "ipython",
    "version": 3
   },
   "file_extension": ".py",
   "mimetype": "text/x-python",
   "name": "python",
   "nbconvert_exporter": "python",
   "pygments_lexer": "ipython3",
   "version": "3.11.0"
  }
 },
 "nbformat": 4,
 "nbformat_minor": 2
}
