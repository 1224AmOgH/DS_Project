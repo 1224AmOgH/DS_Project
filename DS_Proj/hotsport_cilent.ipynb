{
 "cells": [
  {
   "cell_type": "code",
   "execution_count": null,
   "metadata": {},
   "outputs": [
    {
     "name": "stdout",
     "output_type": "stream",
     "text": [
      "Connected to server at 192.168.122.221:8080\n",
      "Received message: {'content': 'hi', 'sequence': 1}\n",
      "Delivered: hi (Sequence: 1)\n",
      "Received message: {'content': 'im here', 'sequence': 2}\n",
      "Delivered: im here (Sequence: 2)\n",
      "Client disconnected.\n"
     ]
    }
   ],
   "source": [
    "import socket\n",
    "import threading\n",
    "import json\n",
    "\n",
    "class Client:\n",
    "    def __init__(self, host, port):\n",
    "        self.host = host\n",
    "        self.port = port\n",
    "        self.client_socket = None\n",
    "        self.message_queue = []\n",
    "        self.expected_sequence = 0  \n",
    "\n",
    "    def connect(self):\n",
    "        self.client_socket = socket.socket(socket.AF_INET, socket.SOCK_STREAM)\n",
    "        self.client_socket.connect((self.host, self.port))\n",
    "        print(f\"Connected to server at {self.host}:{self.port}\")\n",
    "\n",
    "        threading.Thread(target=self.receive_messages, daemon=True).start()\n",
    "\n",
    "    def receive_messages(self):\n",
    "        while True:\n",
    "            try:\n",
    "                data = self.client_socket.recv(1024).decode()\n",
    "                if not data:\n",
    "                    break\n",
    "\n",
    "                message = json.loads(data)\n",
    "                print(f\"Received message: {message}\")\n",
    "                self.deliver_message(message)\n",
    "            except Exception as e:\n",
    "                print(f\"Error receiving message: {e}\")\n",
    "                break\n",
    "\n",
    "    def deliver_message(self, message):\n",
    "        seq = message['sequence']\n",
    "        if seq == self.expected_sequence:\n",
    "            print(f\"Delivered: {message['content']} (Sequence: {seq})\")\n",
    "            self.expected_sequence += 1\n",
    "        else:\n",
    "            self.message_queue.append(message)\n",
    "            self.message_queue.sort(key=lambda x: x['sequence'])\n",
    "\n",
    "            # Try delivering from the queue\n",
    "            while self.message_queue and self.message_queue[0]['sequence'] == self.expected_sequence:\n",
    "                next_msg = self.message_queue.pop(0)\n",
    "                print(f\"Delivered from queue: {next_msg['content']} (Sequence: {next_msg['sequence']})\")\n",
    "                self.expected_sequence += 1\n",
    "\n",
    "    def send_message(self, content):\n",
    "        message = {'content': content}\n",
    "        self.client_socket.sendall(json.dumps(message).encode())\n",
    "\n",
    "if __name__ == \"__main__\":\n",
    "    client = Client(\"192.168.122.221\", 8080)\n",
    "    try:\n",
    "        client.connect()\n",
    "        while True:\n",
    "            msg = input(\"Enter message (type 'exit' to disconnect): \")\n",
    "            if msg.lower() == 'exit':\n",
    "                break\n",
    "            client.send_message(msg)\n",
    "    except Exception as e:\n",
    "        print(f\"Error: {e}\")\n",
    "    finally:\n",
    "        print(\"Client disconnected.\")\n"
   ]
  }
 ],
 "metadata": {
  "kernelspec": {
   "display_name": "Python 3",
   "language": "python",
   "name": "python3"
  },
  "language_info": {
   "codemirror_mode": {
    "name": "ipython",
    "version": 3
   },
   "file_extension": ".py",
   "mimetype": "text/x-python",
   "name": "python",
   "nbconvert_exporter": "python",
   "pygments_lexer": "ipython3",
   "version": "3.11.0"
  }
 },
 "nbformat": 4,
 "nbformat_minor": 2
}
